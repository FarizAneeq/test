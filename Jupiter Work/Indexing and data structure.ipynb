{
 "cells": [
  {
   "cell_type": "markdown",
   "id": "c12e7771",
   "metadata": {},
   "source": [
    "# - Indexing"
   ]
  },
  {
   "cell_type": "code",
   "execution_count": 1,
   "id": "667d590f",
   "metadata": {},
   "outputs": [
    {
     "data": {
      "text/plain": [
       "'samosa, pakora'"
      ]
     },
     "execution_count": 1,
     "metadata": {},
     "output_type": "execute_result"
    }
   ],
   "source": [
    "#Make a string\n",
    "\n",
    "a = \"samosa, pakora\"\n",
    "a"
   ]
  },
  {
   "cell_type": "code",
   "execution_count": 2,
   "id": "2b128a08",
   "metadata": {},
   "outputs": [
    {
     "data": {
      "text/plain": [
       "'samosa, pakora'"
      ]
     },
     "execution_count": 2,
     "metadata": {},
     "output_type": "execute_result"
    }
   ],
   "source": [
    "a"
   ]
  },
  {
   "cell_type": "code",
   "execution_count": 7,
   "id": "3d65be95",
   "metadata": {},
   "outputs": [
    {
     "data": {
      "text/plain": [
       "14"
      ]
     },
     "execution_count": 7,
     "metadata": {},
     "output_type": "execute_result"
    }
   ],
   "source": [
    "# Length of Indices\n",
    "len (a)"
   ]
  },
  {
   "cell_type": "code",
   "execution_count": 5,
   "id": "162f47a8",
   "metadata": {},
   "outputs": [
    {
     "data": {
      "text/plain": [
       "'a'"
      ]
     },
     "execution_count": 5,
     "metadata": {},
     "output_type": "execute_result"
    }
   ],
   "source": [
    "a [9]"
   ]
  },
  {
   "cell_type": "code",
   "execution_count": 11,
   "id": "3437f68c",
   "metadata": {},
   "outputs": [
    {
     "data": {
      "text/plain": [
       "'a'"
      ]
     },
     "execution_count": 11,
     "metadata": {},
     "output_type": "execute_result"
    }
   ],
   "source": [
    "a [13]"
   ]
  },
  {
   "cell_type": "code",
   "execution_count": null,
   "id": "14288f60",
   "metadata": {},
   "outputs": [],
   "source": [
    "a [3]"
   ]
  },
  {
   "cell_type": "code",
   "execution_count": 6,
   "id": "e3fcf8ce",
   "metadata": {},
   "outputs": [
    {
     "data": {
      "text/plain": [
       "','"
      ]
     },
     "execution_count": 6,
     "metadata": {},
     "output_type": "execute_result"
    }
   ],
   "source": [
    "a [6]"
   ]
  },
  {
   "cell_type": "code",
   "execution_count": 13,
   "id": "1599e15c",
   "metadata": {
    "scrolled": true
   },
   "outputs": [
    {
     "data": {
      "text/plain": [
       "'samosa'"
      ]
     },
     "execution_count": 13,
     "metadata": {},
     "output_type": "execute_result"
    }
   ],
   "source": [
    "a [0:6]"
   ]
  },
  {
   "cell_type": "markdown",
   "id": "d0b5e0ac",
   "metadata": {},
   "source": [
    "## 2- Dictionaires"
   ]
  },
  {
   "cell_type": "code",
   "execution_count": null,
   "id": "3005a8d7",
   "metadata": {},
   "outputs": [],
   "source": [
    "D1 = "
   ]
  }
 ],
 "metadata": {
  "kernelspec": {
   "display_name": "Python 3 (ipykernel)",
   "language": "python",
   "name": "python3"
  },
  "language_info": {
   "codemirror_mode": {
    "name": "ipython",
    "version": 3
   },
   "file_extension": ".py",
   "mimetype": "text/x-python",
   "name": "python",
   "nbconvert_exporter": "python",
   "pygments_lexer": "ipython3",
   "version": "3.9.7"
  }
 },
 "nbformat": 4,
 "nbformat_minor": 5
}
